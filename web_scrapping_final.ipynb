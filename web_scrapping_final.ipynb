{
 "cells": [
  {
   "cell_type": "markdown",
   "metadata": {},
   "source": [
    "Voy a captuar los Datos de la web \"http://www.bdbasket.com/es\". Se capturan datos de los equipos y para algunos casos se va jugador a jugador para capturar el valor colectivo.\n"
   ]
  },
  {
   "cell_type": "code",
   "execution_count": 1,
   "metadata": {
    "collapsed": true
   },
   "outputs": [],
   "source": [
    "#!/usr/bin/env python\n",
    "# -*- coding: utf-8 -*-\n",
    "from urllib import urlopen\n",
    "from bs4 import BeautifulSoup\n",
    "import pandas as pd\n",
    "import re\n",
    "#import sys\n",
    "import string"
   ]
  },
  {
   "cell_type": "markdown",
   "metadata": {},
   "source": [
    "Capturo de la página principal las url de las temporadas y de los equipos. "
   ]
  },
  {
   "cell_type": "code",
   "execution_count": 2,
   "metadata": {
    "collapsed": true
   },
   "outputs": [],
   "source": [
    "pagina = \"http://www.bdbasket.com/es\"\n",
    "html = urlopen(pagina)\n",
    "soup = BeautifulSoup(html, 'lxml')\n",
    "#soup = BeautifulSoup(bsObj)\n",
    "lista_temporadas = []\n",
    "lista_equipos = []\n",
    "\n",
    "for a in soup.find_all(href=True):\n",
    "    #print re.compile('[0-9]').search( a.get('href'))\n",
    "    if a.get('href').find('t/t') != -1 and  re.compile('[0-9]').search( a.get('href')):\n",
    "        lista_temporadas.append(\"http://www.bdbasket.com/es/\" + a.get('href'))\n",
    "    if a.get('href').find('e/e') != -1 and  re.compile('[0-9]').search( a.get('href')):\n",
    "        lista_equipos.append(\"http://www.bdbasket.com/es/\" +a.get('href'))\n",
    "#print lista_temporadas\n",
    "#print lista_equipos\n"
   ]
  },
  {
   "cell_type": "markdown",
   "metadata": {},
   "source": [
    "capturo de la web de los equipos el nombre del equipo"
   ]
  },
  {
   "cell_type": "code",
   "execution_count": 3,
   "metadata": {
    "collapsed": true
   },
   "outputs": [],
   "source": [
    "def  capturo_equipos():\n",
    "    equipo_web={}\n",
    "    urle = \"http://www.bdbasket.com/e/e.html\"\n",
    "    htmle = urlopen(urle)\n",
    "    soup = BeautifulSoup(htmle, 'lxml')\n",
    "    nameList = soup.findAll(\"div\", {\"class\":\"eq2B\"})\n",
    "    nombre = [a.findChildren(text=True) for a in nameList]\n",
    "    web = [[w.get('href') for w in a.findChildren(href=True)] for a in nameList]\n",
    "    for n in range(0,len(nombre)-1):\n",
    "        equipo_web[str(nombre[n]).split(\"'\")[1]] = web[n][0].split(\"e\")[1][0:2].split(\".\")[0]\n",
    "    #print equipo_web\n",
    "    return equipo_web\n",
    "\n",
    "equipo_web = capturo_equipos()\n",
    "\n"
   ]
  },
  {
   "cell_type": "markdown",
   "metadata": {},
   "source": [
    "Convierto a integer un dato desde un string"
   ]
  },
  {
   "cell_type": "code",
   "execution_count": 4,
   "metadata": {
    "collapsed": true
   },
   "outputs": [],
   "source": [
    "def ci(dato):\n",
    "    '''\n",
    "    ci = convertir a integer\n",
    "    Se utiliza esta función para extaer el entero  de una resulset con formato [u'numero']\n",
    "    Se pasa una resultset con formato [u'numero']\n",
    "    '''\n",
    "    vuelta = int(string.split(str(dato), \"'\")[1])\n",
    "    return vuelta   \n",
    "\n"
   ]
  },
  {
   "cell_type": "markdown",
   "metadata": {},
   "source": [
    "Funcion que Cuenta el numero de temporadas de todos los jugadores de una plantilla \n",
    "    que llevan en la liga acb en la temporada solicitada."
   ]
  },
  {
   "cell_type": "code",
   "execution_count": 5,
   "metadata": {
    "collapsed": true
   },
   "outputs": [],
   "source": [
    "def numero_temporadas(web2, temp):\n",
    "    '''\n",
    "    Esta función se llama desde la función capturo_datos_equipo \n",
    "    \n",
    "    Cuenta el número de temporadas de todos los jugadores de una plantilla \n",
    "    que llevan en la liga acb en la temporada solicitada.\n",
    "    \n",
    "    web2 son las direcciones web de los jugadores de la plantilla en formato corto\n",
    "    temp es la temporada que se está analizando. \n",
    "    \n",
    "    el resultado es \n",
    "    jug1 : jugadores que es su primera temporada en ACB\n",
    "    jug3 : jugadores que llevan entre 2 y 3 temporadas en ACB\n",
    "    jug5 : jugadores que llevan entre 4 y 5 temporadas en ACB\n",
    "    mas5 : jugadores que llevan más de 5 temporadas en ACB\n",
    "    '''\n",
    "    jug1 = 0\n",
    "    jug3 = 0\n",
    "    jug5 = 0\n",
    "    mas5 = 0\n",
    "    #print web2,temp\n",
    "    for n in range(1, len(web2)):\n",
    "        if len(web2[n]) >0:\n",
    "            urlj = \"http://www.bdbasket.com/es\" + string.split(web2[n][0],\"..\")[1]\n",
    "           # print urlj\n",
    "            htmlj = urlopen(urlj)\n",
    "            soup = BeautifulSoup(htmlj, 'lxml')\n",
    "            table = soup.find(\"table\", {\"class\" : \"taulabdf traject\"})\n",
    "            rows = table.findAll('tr')            \n",
    "            web = [[w.get('href') for w in a.findChildren(href=True)] for a in rows]\n",
    "            for n in range(0, len(web)):\n",
    "                contador = 0\n",
    "                if string.find(web[n][0], temp) != -1:\n",
    "                    #print web[n][0]\n",
    "                    contador = n+1\n",
    "            if contador == 1: \n",
    "                jug1 = jug1 + 1\n",
    "            elif contador <= 3:\n",
    "                jug3 = jug3 + 1  \n",
    "            elif contador <= 5:\n",
    "                jug5 = jug5 + 1\n",
    "            else:\n",
    "                mas5 = mas5 + 1    \n",
    "    \n",
    "    return jug1, jug3, jug5, mas5\n",
    "      \n"
   ]
  },
  {
   "cell_type": "markdown",
   "metadata": {},
   "source": [
    "Capturo los valores de la tabla de cada equipo"
   ]
  },
  {
   "cell_type": "code",
   "execution_count": 6,
   "metadata": {
    "collapsed": true
   },
   "outputs": [],
   "source": [
    "def capturo_datos_equipo(equipo):\n",
    "    '''\n",
    "    En esta función capturo los datos por equipo. \n",
    "    Esta función se llama desde la función recorro_temporadas donde voy recorriendo \n",
    "    en cada tenporada la clasificación y para cada equipo aplico esta función.\n",
    "    \n",
    "    Argumentos:\n",
    "        equipo: se le pasa la web del equipo para esa temporada. Esta web está formada por\n",
    "        la raíz: \"http://www.bdbasket.com/es\" + string.split(web[k][0],\"..\")[1]\n",
    "        direccion del equipo para esa temporada con el formato ../t/tNumerodetemporadaIdentificadorequipo.html\n",
    "        por ejemplo: ../t/t2015-161.html donde Numerodetemporada es 2015-16 e Identificadorequipo es 1 (Barcelona)\n",
    "        \n",
    "        La función devuelve los valores para ese equipo de:\n",
    "        total_min: total de minutos jugados por todos los jugadores del equipo,\n",
    "        total_val: total de puntos de valoración obtenidos por todos los jugadores del equipo, \n",
    "        total_puntos: total de puntos anotados por todos los jugadores del equipo, \n",
    "        total_min_espana: total de minutos jugados por los jugadores españoles de un equipo, \n",
    "        total_puntos_espana: total de puntos anotados  por los jugadores españoles de un equipo, \n",
    "        total_val_espana: total de puntos de valoración obtenidos  por los jugadores españoles de un equipo, \n",
    "        jugadores: el número de jugadores que ha tenido un equipo esa temporada, \n",
    "        espanoles: el número de jugadores españoles que ha tenido un equipo esa temporada\n",
    "        jug1, jug3, jug5, mas5: resultaod de la función número de temporadas\n",
    "        \n",
    "        \n",
    "    '''\n",
    "    urle = equipo\n",
    "    temp = string.split(urle, \"es/t/t\")[1][0:7]\n",
    "    htmle = urlopen(urle)\n",
    "    soup = BeautifulSoup(htmle, 'lxml')\n",
    "    table = soup.find(\"table\", id = \"taulaplantilla\")\n",
    "    rows = table.findAll('tr')\n",
    "    paises = [[div.attrs for div in tr.findAll(\"div\")] for tr in rows]\n",
    "    data = [[td.findChildren(text=True) for td in tr.findAll(\"td\")] for tr in rows]\n",
    "    web = [[w.get('href') for w in a.findChildren(href=True)] for a in rows]\n",
    "    jug1,jug3,jug5,mas5 = numero_temporadas(web, temp)\n",
    "    total_puntos_espana = 0\n",
    "    total_min_espana = 0\n",
    "    total_val_espana = 0\n",
    "    total_puntos = 0\n",
    "    total_min = 0\n",
    "    total_val = 0\n",
    "    espanoles = 0\n",
    "    jugadores = 0\n",
    "    for k in range(1,len(data)):\n",
    "        if len(data[k]) > 10:\n",
    "            try:\n",
    "                pais = paises[k][0][\"class\"][1]\n",
    "            except:\n",
    "                pais = \"desconocido\"\n",
    "            puntos = ci(data[k][10])\n",
    "            minutos = ci(data[k][9])\n",
    "            valoracion = ci(data[k][21])\n",
    "            total_min = total_min + minutos\n",
    "            total_val= total_val + valoracion\n",
    "            total_puntos = total_puntos + puntos\n",
    "            jugadores = jugadores + 1\n",
    "            if pais == \"espanya\":\n",
    "                total_min_espana = total_min_espana + minutos\n",
    "                total_val_espana= total_val_espana + valoracion\n",
    "                total_puntos_espana = total_puntos_espana + puntos\n",
    "                espanoles = espanoles +1\n",
    "    return total_min, total_val, total_puntos, total_min_espana, total_puntos_espana, total_val_espana, jugadores, espanoles,jug1, jug3, jug5, mas5\n",
    "                \n",
    "        \n"
   ]
  },
  {
   "cell_type": "markdown",
   "metadata": {},
   "source": [
    "Y por fin temporada a temporada cojo todos los datos. "
   ]
  },
  {
   "cell_type": "code",
   "execution_count": 29,
   "metadata": {
    "collapsed": false
   },
   "outputs": [],
   "source": [
    "def recorro_temporadas(lista_temporadas):\n",
    "    '''\n",
    "    Función que recorre cada una de las temporadas y llama a las subfunciones para obtener \n",
    "    los datos por equipo y por temporada. \n",
    "    \n",
    "    Argumentos: \n",
    "        lista_temporada: se le pasan las temporadas que hay en la url \"http://www.bdbasket.com/es\"\n",
    "        y que tengan en su nombre t/t que es el indicativo de que es una temporada. \n",
    "        \n",
    "    Resultado: devuelve un Dataframe con los datos a explorar. \n",
    "    '''\n",
    "    filas = []\n",
    "    for n in lista_temporadas:\n",
    "        url = n\n",
    "        print url\n",
    "        html = urlopen(url)\n",
    "        soup = BeautifulSoup(html, 'lxml')\n",
    "        table = soup.find(\"table\", id = \"classific\")\n",
    "        rows = table.findAll('tr')\n",
    "        data = [[td.findChildren(text=True) for td in tr.findAll(\"td\")] for tr in rows]\n",
    "        web = [[w.get('href') for w in a.findChildren(href=True)] for a in rows]\n",
    "        columnas = [\"temporada\", \"equipo\", \"puesto\", \"PJ\",\"PG\",\"PP\",\"PF\",\"PC\", \"total_min\", \"total_val\", \"total_puntos\", \"total_min_espana\", \"total_puntos_espana\", \"total_val_espana\", \"total_jug\", \"jug_esp\", \"jug1\", \"jug3\", \"jug5\", \"mas5\"]\n",
    "        for k in range(1,len(data)):\n",
    "            temp = str(n[-10:-5])\n",
    "            equipo = string.split(str(data[k][3]), \"'\")[1]\n",
    "            puesto = int(string.split(str(data[k][1]), \"'\")[1])\n",
    "            PJ = int(string.split(str(data[k][4]), \"'\")[1])\n",
    "            PG = int(string.split(str(data[k][5]), \"'\")[1])\n",
    "            PP = int(string.split(str(data[k][6]), \"'\")[1])\n",
    "            PF = int(string.split(str(data[k][7]), \"'\")[1])\n",
    "            PC = int(string.split(str(data[k][8]), \"'\")[1])\n",
    "            #print \"http://www.bdbasket.com/es\" + string.split(web[k][0],\"..\")[1]\n",
    "            #print capturo_datos_equipo(\"http://www.bdbasket.com/es\" + string.split(web[k][0],\"..\")[1])\n",
    "            total_min, total_val, total_puntos, total_min_espana, total_puntos_espana, total_val_espana, jugadores, espanoles, jug1, jug3, jug5, mas5= capturo_datos_equipo(\"http://www.bdbasket.com/es\" + string.split(web[k][0],\"..\")[1])\n",
    "            filas.append([temp,equipo,puesto,PJ,PG,PP,PF,PC,total_min, total_val, total_puntos, total_min_espana, total_puntos_espana, total_val_espana, jugadores, espanoles, jug1,jug3, jug5, mas5])\n",
    "    temporada = pd.DataFrame(filas,columns= columnas)\n",
    "    return temporada"
   ]
  },
  {
   "cell_type": "code",
   "execution_count": null,
   "metadata": {
    "collapsed": false
   },
   "outputs": [
    {
     "name": "stdout",
     "output_type": "stream",
     "text": [
      "http://www.bdbasket.com/es/t/t2015-16.html\n",
      "http://www.bdbasket.com/es/t/t2005-06.html\n",
      "http://www.bdbasket.com/es/t/t1995-96.html\n",
      "http://www.bdbasket.com/es/t/t2014-15.html\n",
      "http://www.bdbasket.com/es/t/t2004-05.html\n",
      "http://www.bdbasket.com/es/t/t1994-95.html\n",
      "http://www.bdbasket.com/es/t/t2013-14.html\n",
      "http://www.bdbasket.com/es/t/t2003-04.html\n",
      "http://www.bdbasket.com/es/t/t1993-94.html\n",
      "http://www.bdbasket.com/es/t/t2012-13.html\n",
      "http://www.bdbasket.com/es/t/t2002-03.html\n",
      "http://www.bdbasket.com/es/t/t1992-93.html\n",
      "http://www.bdbasket.com/es/t/t2011-12.html\n",
      "http://www.bdbasket.com/es/t/t2001-02.html\n",
      "http://www.bdbasket.com/es/t/t1991-92.html\n",
      "http://www.bdbasket.com/es/t/t2010-11.html\n",
      "http://www.bdbasket.com/es/t/t2000-01.html\n"
     ]
    }
   ],
   "source": [
    "listado =recorro_temporadas(lista_temporadas)\n",
    "#print listado\n",
    "listado.to_csv(\"temporadas_web.csv\", index=False)\n"
   ]
  },
  {
   "cell_type": "markdown",
   "metadata": {},
   "source": [
    "Finalizo el WebScrapping\n",
    "Como la página pudiera cambiar sin previo aviso el programa crea el fichero temporadas_web.csv y no el temporadas.csv\n",
    "que el python que toca los datos llama para hacer el estudio. \n"
   ]
  },
  {
   "cell_type": "code",
   "execution_count": null,
   "metadata": {
    "collapsed": true
   },
   "outputs": [],
   "source": []
  }
 ],
 "metadata": {
  "kernelspec": {
   "display_name": "Python 2",
   "language": "python",
   "name": "python2"
  },
  "language_info": {
   "codemirror_mode": {
    "name": "ipython",
    "version": 2
   },
   "file_extension": ".py",
   "mimetype": "text/x-python",
   "name": "python",
   "nbconvert_exporter": "python",
   "pygments_lexer": "ipython2",
   "version": "2.7.11"
  }
 },
 "nbformat": 4,
 "nbformat_minor": 0
}
